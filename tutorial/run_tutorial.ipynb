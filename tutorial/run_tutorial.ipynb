{
 "cells": [
  {
   "cell_type": "markdown",
   "metadata": {
    "collapsed": true
   },
   "source": [
    "# Anonymisation with Synthetic Data Tutorial\n"
   ]
  },
  {
   "cell_type": "markdown",
   "metadata": {},
   "source": [
    "## Generate mock NHS A&E dataset\n",
    "\n",
    "\n",
    "Then, to generate the data, from the project root directory run the `generate.py` script.\n",
    "\n",
    "Voila! You'll now see a new `hospital_ae_data.csv` file in the `/data` directory. Open it up and have a browse. It's contains the following columns:\n",
    "\n",
    "- **Health Service ID**: NHS number of the admitted patient  \n",
    "- **Age**: age of patient\n",
    "- **Time in A&E (mins)**: time in minutes of how long the patient spent in A&E. This is generated to correlate with the age of the patient.\n",
    "- **Hospital**: which hospital admitted the patient - with some hospitals being more prevalent in the data than others\n",
    "- **Arrival Time**: what time and date the patient was admitted - with weekends as busier and and a different peak time for each day\n",
    "- **Treatment**: what the person was treated for - with certain treatments being more common than others\n",
    "- **Gender**: patient gender - based on [NHS patient gender codes](https://www.datadictionary.nhs.uk/data_dictionary/attributes/p/person/person_gender_code_de.asp?shownav=1)\n",
    "- **Postcode**: postcode of patient - random, in use, London postcodes extracted from the `London postcodes.csv` file.\n",
    "\n",
    "We can see this dataset obviously contains some personal information. For instance, if we knew roughly the time a neighbour went to A&E we could use their postcode to figure out exactly what ailment they went in with. Or, if a list of people's Health Service ID's were to be leaked in future, lots of people could be re-identified.\n",
    "\n",
    "Because of this, we'll need to take some de-identification steps.\n",
    "\n",
    "---\n"
   ]
  },
  {
   "cell_type": "code",
   "execution_count": 1,
   "metadata": {},
   "outputs": [],
   "source": [
    "from generate import generate_fake_dataset\n",
    "from deidentify import deindentify\n",
    "import filepaths\n",
    "import pandas as pd\n",
    "import seaborn as sns"
   ]
  },
  {
   "cell_type": "code",
   "execution_count": 2,
   "metadata": {},
   "outputs": [
    {
     "name": "stdout",
     "output_type": "stream",
     "text": [
      "generating data...\n",
      "generating Health Service ID numbers...\n",
      "generating patient ages and times in A&E...\n",
      "[[10000     0]\n",
      " [    0 10000]]\n",
      "generating hospital instances...\n",
      "generating arrival times...\n",
      "generating A&E treaments...\n",
      "generating patient gender instances...\n",
      "generating patient postcodes...\n",
      "done in 1.29 seconds.\n"
     ]
    }
   ],
   "source": [
    "hospital_ae_df = generate_fake_dataset()"
   ]
  },
  {
   "cell_type": "code",
   "execution_count": 3,
   "metadata": {},
   "outputs": [
    {
     "data": {
      "text/html": [
       "<div>\n",
       "<style scoped>\n",
       "    .dataframe tbody tr th:only-of-type {\n",
       "        vertical-align: middle;\n",
       "    }\n",
       "\n",
       "    .dataframe tbody tr th {\n",
       "        vertical-align: top;\n",
       "    }\n",
       "\n",
       "    .dataframe thead th {\n",
       "        text-align: right;\n",
       "    }\n",
       "</style>\n",
       "<table border=\"1\" class=\"dataframe\">\n",
       "  <thead>\n",
       "    <tr style=\"text-align: right;\">\n",
       "      <th></th>\n",
       "      <th>Health Service ID</th>\n",
       "      <th>Age</th>\n",
       "      <th>Time in A&amp;E (mins)</th>\n",
       "      <th>Hospital</th>\n",
       "      <th>Arrival Time</th>\n",
       "      <th>Treatment</th>\n",
       "      <th>Gender</th>\n",
       "      <th>Postcode</th>\n",
       "    </tr>\n",
       "  </thead>\n",
       "  <tbody>\n",
       "    <tr>\n",
       "      <th>0</th>\n",
       "      <td>503-053-9940</td>\n",
       "      <td>9.572203</td>\n",
       "      <td>1.000000</td>\n",
       "      <td>University Hospital Lewisham</td>\n",
       "      <td>2019-04-03 11:15:50</td>\n",
       "      <td>Nebuliser/spacer</td>\n",
       "      <td>Female</td>\n",
       "      <td>NW11 9DN</td>\n",
       "    </tr>\n",
       "    <tr>\n",
       "      <th>1</th>\n",
       "      <td>393-922-2789</td>\n",
       "      <td>43.283094</td>\n",
       "      <td>-9.317759</td>\n",
       "      <td>West Middlesex University Hospital</td>\n",
       "      <td>2019-04-06 13:44:06</td>\n",
       "      <td>Wound closure (excluding sutures)</td>\n",
       "      <td>Male</td>\n",
       "      <td>EC1R 4QS</td>\n",
       "    </tr>\n",
       "    <tr>\n",
       "      <th>2</th>\n",
       "      <td>817-167-8706</td>\n",
       "      <td>68.235535</td>\n",
       "      <td>4.329889</td>\n",
       "      <td>Charing Cross Hospital</td>\n",
       "      <td>2019-04-02 21:21:14</td>\n",
       "      <td>Infusion fluids</td>\n",
       "      <td>Male</td>\n",
       "      <td>HA5 2YU</td>\n",
       "    </tr>\n",
       "    <tr>\n",
       "      <th>3</th>\n",
       "      <td>036-348-5325</td>\n",
       "      <td>11.372672</td>\n",
       "      <td>17.963540</td>\n",
       "      <td>Queen Elizabeth Hospital</td>\n",
       "      <td>2019-04-02 09:40:59</td>\n",
       "      <td>Central line</td>\n",
       "      <td>Male</td>\n",
       "      <td>KT1 9DF</td>\n",
       "    </tr>\n",
       "    <tr>\n",
       "      <th>4</th>\n",
       "      <td>388-598-6916</td>\n",
       "      <td>-12.459172</td>\n",
       "      <td>-25.688624</td>\n",
       "      <td>Homerton University Hospital</td>\n",
       "      <td>2019-04-04 16:51:25</td>\n",
       "      <td>Wound closure (excluding sutures)</td>\n",
       "      <td>Male</td>\n",
       "      <td>NW7 0EF</td>\n",
       "    </tr>\n",
       "  </tbody>\n",
       "</table>\n",
       "</div>"
      ],
      "text/plain": [
       "  Health Service ID        Age  Time in A&E (mins)  \\\n",
       "0      503-053-9940   9.572203            1.000000   \n",
       "1      393-922-2789  43.283094           -9.317759   \n",
       "2      817-167-8706  68.235535            4.329889   \n",
       "3      036-348-5325  11.372672           17.963540   \n",
       "4      388-598-6916 -12.459172          -25.688624   \n",
       "\n",
       "                             Hospital         Arrival Time  \\\n",
       "0        University Hospital Lewisham  2019-04-03 11:15:50   \n",
       "1  West Middlesex University Hospital  2019-04-06 13:44:06   \n",
       "2              Charing Cross Hospital  2019-04-02 21:21:14   \n",
       "3            Queen Elizabeth Hospital  2019-04-02 09:40:59   \n",
       "4        Homerton University Hospital  2019-04-04 16:51:25   \n",
       "\n",
       "                           Treatment  Gender  Postcode  \n",
       "0                   Nebuliser/spacer  Female  NW11 9DN  \n",
       "1  Wound closure (excluding sutures)    Male  EC1R 4QS  \n",
       "2                    Infusion fluids    Male   HA5 2YU  \n",
       "3                       Central line    Male   KT1 9DF  \n",
       "4  Wound closure (excluding sutures)    Male   NW7 0EF  "
      ]
     },
     "execution_count": 3,
     "metadata": {},
     "output_type": "execute_result"
    }
   ],
   "source": [
    "hospital_ae_df.head()"
   ]
  },
  {
   "cell_type": "code",
   "execution_count": 4,
   "metadata": {},
   "outputs": [
    {
     "data": {
      "text/plain": [
       "<seaborn.axisgrid.PairGrid at 0x10ee1ac50>"
      ]
     },
     "execution_count": 4,
     "metadata": {},
     "output_type": "execute_result"
    },
    {
     "data": {
      "image/png": "[encoded data removed]",
      "text/plain": [
       "<Figure size 360x360 with 6 Axes>"
      ]
     },
     "metadata": {
      "needs_background": "light"
     },
     "output_type": "display_data"
    }
   ],
   "source": [
    "sns.pairplot(hospital_ae_df)"
   ]
  },
  {
   "cell_type": "markdown",
   "metadata": {},
   "source": [
    "## De-identification\n",
    "\n",
    "For this stage, we're going to be loosely following the de-identification techniques used by Jonathan Pearson of NHS England, and described in a blog post about [creating its own synthetic data](https://odileeds.org/blog/2019-01-24-exploring-methods-for-creating-synthetic-a-e-data).\n",
    "\n",
    "### Remove Health Service ID numbers\n",
    "\n",
    "Health Service ID numbers are direct identifiers and should be removed. So we'll simply drop the entire column.\n",
    "\n",
    "```python\n",
    "hospital_ae_df = hospital_ae_df.drop('Health Service ID', 1)\n",
    "```\n",
    "\n",
    "### Where a patient lives\n",
    "\n",
    "Pseudo-identifiers, also known as [quasi-identifiers](https://en.wikipedia.org/wiki/Quasi-identifier), are pieces of information that don't directly identify people but can used with other information to identify a person. If we were to take the age, postcode and gender of a person we could combine these and check the dataset to see what that person was treated for in A&E.\n",
    "\n",
    "The data scientist from NHS England, Jonathan Pearson, describes this in the blog post:\n",
    "\n",
    "> I started with the postcode of the patients resident lower super output area (LSOA). This is a geographical definition with an average of 1500 residents created to make reporting in England and Wales easier. I wanted to keep some basic information about the area where the patient lives whilst completely removing any information regarding any actual postcode. A key variable in health care inequalities is the patients Index of Multiple deprivation (IMD) decile (broad measure of relative deprivation) which gives an average ranked value for each LSOA. By replacing the patients resident postcode with an IMD decile I have kept a key bit of information whilst making this field non-identifiable.\n",
    "\n",
    "We'll do just the same with our dataset.\n",
    "\n",
    "First we'll map the rows' postcodes to their LSOA and then drop the postcodes column.\n",
    "\n",
    "```python\n",
    "postcodes_df = pd.read_csv(filepaths.postcodes_london)\n",
    "hospital_ae_df = pd.merge(\n",
    "    hospital_ae_df,\n",
    "    postcodes_df[['Postcode', 'Lower layer super output area']],\n",
    "    on='Postcode'\n",
    ")\n",
    "hospital_ae_df = hospital_ae_df.drop('Postcode', 1)\n",
    "```\n",
    "\n",
    "Then we'll add a mapped column of \"Index of Multiple Deprivation\" column for each entry's LSOA.\n",
    "\n",
    "```python\n",
    "hospital_ae_df = pd.merge(\n",
    "    hospital_ae_df,\n",
    "    postcodes_df[['Lower layer super output area', 'Index of Multiple Deprivation']].drop_duplicates(),\n",
    "    on='Lower layer super output area'\n",
    ")\n",
    "```\n",
    "\n",
    "Next calculate the decile bins for the IMDs by taking all the IMDs from large list of London. We'll use the Pandas `qcut` (quantile cut), function for this.\n",
    "\n",
    "```python\n",
    "_, bins = pd.qcut(\n",
    "    postcodes_df['Index of Multiple Deprivation'],\n",
    "    10,\n",
    "    retbins=True,\n",
    "    labels=False\n",
    ")\n",
    "```\n",
    "\n",
    "Then we'll use those decile `bins` to map each row's IMD to its IMD decile.\n",
    "\n",
    "```python\n",
    "# add +1 to get deciles from 1 to 10 (not 0 to 9)\n",
    "hospital_ae_df['Index of Multiple Deprivation Decile'] = pd.cut(\n",
    "    hospital_ae_df['Index of Multiple Deprivation'],\n",
    "    bins=bins,\n",
    "    labels=False,\n",
    "    include_lowest=True) + 1\n",
    "```\n",
    "\n",
    "And finally drop the columns we no longer need.\n",
    "\n",
    "```python\n",
    "hospital_ae_df = hospital_ae_df.drop('Index of Multiple Deprivation', 1)\n",
    "hospital_ae_df = hospital_ae_df.drop('Lower layer super output area', 1)\n",
    "```\n",
    "\n",
    "### Individual hospitals\n",
    "\n",
    "The data scientist at NHS England masked individual hospitals giving the following reason.\n",
    "\n",
    "> As each hospital has its own complex case mix and health system, using these data to identify poor performance or possible improvements would be invalid and un-helpful. Therefore, I decided to replace the hospital code with a random number.\n",
    "\n",
    "So we'll do as they did, replacing hospitals with a random six-digit ID.\n",
    "\n",
    "```python\n",
    "hospitals = hospital_ae_df['Hospital'].unique().tolist()\n",
    "random.shuffle(hospitals)\n",
    "hospitals_map = {\n",
    "    hospital : ''.join(random.choices(string.digits, k=6))\n",
    "    for hospital in hospitals\n",
    "}\n",
    "hospital_ae_df['Hospital ID'] = hospital_ae_df['Hospital'].map(hospitals_map)\n",
    "```\n",
    "\n",
    "And remove the `Hospital` column.\n",
    "\n",
    "```python\n",
    "hospital_ae_df = hospital_ae_df.drop('Hospital', 1)\n",
    "```\n",
    "\n",
    "### Time in the data\n",
    "\n",
    "> The next obvious step was to simplify some of the time information I have available as health care system analysis doesn't need to be responsive enough to work on a second and minute basis. Thus, I removed the time information from the 'arrival date', mapped the 'arrival time' into 4-hour chunks\n",
    "\n",
    "First we'll split the `Arrival Time` column in to `Arrival Date` and `Arrival Hour`.\n",
    "\n",
    "```python\n",
    "arrival_times = pd.to_datetime(hospital_ae_df['Arrival Time'])\n",
    "hospital_ae_df['Arrival Date'] = arrival_times.dt.strftime('%Y-%m-%d')\n",
    "hospital_ae_df['Arrival Hour'] = arrival_times.dt.hour\n",
    "hospital_ae_df = hospital_ae_df.drop('Arrival Time', 1)\n",
    "```\n",
    "\n",
    "Then we'll map the hours to 4-hour chunks and drop the `Arrival Hour` column.\n",
    "\n",
    "```python\n",
    "hospital_ae_df['Arrival hour range'] = pd.cut(\n",
    "    hospital_ae_df['Arrival Hour'],\n",
    "    bins=[0, 4, 8, 12, 16, 20, 24],\n",
    "    labels=['00-03', '04-07', '08-11', '12-15', '16-19', '20-23'],\n",
    "    include_lowest=True\n",
    ")\n",
    "hospital_ae_df = hospital_ae_df.drop('Arrival Hour', 1)\n",
    "```\n",
    "\n",
    "### Patient demographics\n",
    "\n",
    "> I decided to only include records with a sex of male or female in order to reduce risk of re identification through low numbers.\n",
    "\n",
    "```python\n",
    "hospital_ae_df = hospital_ae_df[hospital_ae_df['Gender'].isin(['Male', 'Female'])]\n",
    "```\n",
    "\n",
    "> For the patients age it is common practice to group these into bands and so I've used a standard set - 1-17, 18-24, 25-44, 45-64, 65-84, and 85+ - which although are non-uniform are well used segments defining different average health care usage.\n",
    "\n",
    "```python\n",
    "hospital_ae_df['Age bracket'] = pd.cut(\n",
    "    hospital_ae_df['Age'],\n",
    "    bins=[0, 18, 25, 45, 65, 85, 150],\n",
    "    labels=['0-17', '18-24', '25-44', '45-64', '65-84', '85-'],\n",
    "    include_lowest=True\n",
    ")\n",
    "hospital_ae_df = hospital_ae_df.drop('Age', 1)\n",
    "```\n",
    "\n",
    "That's all the steps we'll take. We'll finally save our new de-identified dataset."
   ]
  },
  {
   "cell_type": "code",
   "execution_count": 5,
   "metadata": {},
   "outputs": [
    {
     "name": "stdout",
     "output_type": "stream",
     "text": [
      "running de-identification steps...\n",
      "removing Health Service ID numbers...\n",
      "converting postcodes to LSOA...\n",
      "converting LSOA to IMD decile...\n",
      "replacing Hospital with random number...\n",
      "putting Arrival Hour in 4-hour bins...\n",
      "removing non-male-or-female from gender ...\n",
      "putting ages in age brackets...\n",
      "done in 2.18 seconds.\n"
     ]
    }
   ],
   "source": [
    "hospital_ae_data_deidentify = deindentify(hospital_ae_df)"
   ]
  },
  {
   "cell_type": "code",
   "execution_count": 6,
   "metadata": {},
   "outputs": [
    {
     "data": {
      "text/html": [
       "<div>\n",
       "<style scoped>\n",
       "    .dataframe tbody tr th:only-of-type {\n",
       "        vertical-align: middle;\n",
       "    }\n",
       "\n",
       "    .dataframe tbody tr th {\n",
       "        vertical-align: top;\n",
       "    }\n",
       "\n",
       "    .dataframe thead th {\n",
       "        text-align: right;\n",
       "    }\n",
       "</style>\n",
       "<table border=\"1\" class=\"dataframe\">\n",
       "  <thead>\n",
       "    <tr style=\"text-align: right;\">\n",
       "      <th></th>\n",
       "      <th>Time in A&amp;E (mins)</th>\n",
       "      <th>Treatment</th>\n",
       "      <th>Gender</th>\n",
       "      <th>Index of Multiple Deprivation Decile</th>\n",
       "      <th>Hospital ID</th>\n",
       "      <th>Arrival Date</th>\n",
       "      <th>Arrival hour range</th>\n",
       "      <th>Age bracket</th>\n",
       "    </tr>\n",
       "  </thead>\n",
       "  <tbody>\n",
       "    <tr>\n",
       "      <th>0</th>\n",
       "      <td>1.000000</td>\n",
       "      <td>Nebuliser/spacer</td>\n",
       "      <td>Female</td>\n",
       "      <td>7</td>\n",
       "      <td>712141</td>\n",
       "      <td>2019-04-03</td>\n",
       "      <td>08-11</td>\n",
       "      <td>0-17</td>\n",
       "    </tr>\n",
       "    <tr>\n",
       "      <th>1</th>\n",
       "      <td>4.168928</td>\n",
       "      <td>Bandage/support</td>\n",
       "      <td>Female</td>\n",
       "      <td>7</td>\n",
       "      <td>582340</td>\n",
       "      <td>2019-04-05</td>\n",
       "      <td>04-07</td>\n",
       "      <td>45-64</td>\n",
       "    </tr>\n",
       "    <tr>\n",
       "      <th>2</th>\n",
       "      <td>0.466646</td>\n",
       "      <td>Wound cleaning</td>\n",
       "      <td>Male</td>\n",
       "      <td>7</td>\n",
       "      <td>712141</td>\n",
       "      <td>2019-04-06</td>\n",
       "      <td>08-11</td>\n",
       "      <td>45-64</td>\n",
       "    </tr>\n",
       "    <tr>\n",
       "      <th>3</th>\n",
       "      <td>2.202209</td>\n",
       "      <td>Removal foreign body</td>\n",
       "      <td>Female</td>\n",
       "      <td>7</td>\n",
       "      <td>712141</td>\n",
       "      <td>2019-04-07</td>\n",
       "      <td>04-07</td>\n",
       "      <td>65-84</td>\n",
       "    </tr>\n",
       "    <tr>\n",
       "      <th>4</th>\n",
       "      <td>-9.317759</td>\n",
       "      <td>Wound closure (excluding sutures)</td>\n",
       "      <td>Male</td>\n",
       "      <td>4</td>\n",
       "      <td>773925</td>\n",
       "      <td>2019-04-06</td>\n",
       "      <td>12-15</td>\n",
       "      <td>25-44</td>\n",
       "    </tr>\n",
       "  </tbody>\n",
       "</table>\n",
       "</div>"
      ],
      "text/plain": [
       "   Time in A&E (mins)                          Treatment  Gender  \\\n",
       "0            1.000000                   Nebuliser/spacer  Female   \n",
       "1            4.168928                    Bandage/support  Female   \n",
       "2            0.466646                     Wound cleaning    Male   \n",
       "3            2.202209               Removal foreign body  Female   \n",
       "4           -9.317759  Wound closure (excluding sutures)    Male   \n",
       "\n",
       "   Index of Multiple Deprivation Decile Hospital ID Arrival Date  \\\n",
       "0                                     7      712141   2019-04-03   \n",
       "1                                     7      582340   2019-04-05   \n",
       "2                                     7      712141   2019-04-06   \n",
       "3                                     7      712141   2019-04-07   \n",
       "4                                     4      773925   2019-04-06   \n",
       "\n",
       "  Arrival hour range Age bracket  \n",
       "0              08-11        0-17  \n",
       "1              04-07       45-64  \n",
       "2              08-11       45-64  \n",
       "3              04-07       65-84  \n",
       "4              12-15       25-44  "
      ]
     },
     "execution_count": 6,
     "metadata": {},
     "output_type": "execute_result"
    }
   ],
   "source": [
    "hospital_ae_data_deidentify.head()"
   ]
  },
  {
   "cell_type": "markdown",
   "metadata": {},
   "source": [
    "## Synthesise\n",
    "\n",
    "Synthetic data exists on a spectrum from merely the same columns and datatypes as the original data all the way to carrying nearly all of the statistical patterns of the original dataset.\n",
    "\n",
    "The UK's Office of National Statistics has a great report on synthetic data and the [_Synthetic Data Spectrum_](https://www.ons.gov.uk/methodology/methodologicalpublications/generalmethodology/onsworkingpaperseries/onsmethodologyworkingpaperseriesnumber16syntheticdatapilot?utm_campaign=201903_UK_DataPolicyNetwork&utm_source=hs_email&utm_medium=email&utm_content=70377606&_hsenc=p2ANqtz-9W6ByBext_HsgkTPG1lw2JJ_utRoJSTIeVC5Z2lz3QkzwFQpZ0dp2ns9SZLPqxLJrgWzsjC_zt7FQcBvtIGoeSjZtwNg&_hsmi=70377606#synthetic-dataset-spectrum) section is very good in explaining the nuances in more detail.\n",
    "\n",
    "In this tutorial we'll create not one, not two, but *three* synthetic datasets, that are on a range across the synthetic data spectrum: *Random*, *Independent* and *Correlated*.\n",
    "\n",
    "> In **correlated attribute mode**, we learn a differentially private Bayesian network capturing the correlation structure between attributes, then draw samples from this model to construct the result dataset.\n",
    ">\n",
    "> In cases where the correlated attribute mode is too computationally expensive or when there is insufficient data to derive a reasonable model, one can use **independent attribute mode**. In this mode, a histogram is derived for each attribute, noise is added to the histogram to achieve differential privacy, and then samples are drawn for each attribute.\n",
    ">\n",
    "> Finally, for cases of extremely sensitive data, one can use **random mode** that simply generates type-consistent random values for each attribute.\n",
    "\n",
    "We'll go through each of these now, moving along the synthetic data spectrum, in the order of random to independent to correlated.\n",
    "\n",
    "The toolkit we will be using to generate the three synthetic datasets is DataSynthetizer.\n",
    "\n",
    "### DataSynthesizer\n",
    "\n",
    "As described in the introduction, this is an open-source toolkit for generating synthetic data. And I'd like to lavish much praise on the researchers who made it as it's excellent.\n",
    "\n",
    "Instead of explaining it myself, I'll use the researchers' own words from their paper:\n",
    "\n",
    "> DataSynthesizer infers the domain of each attribute and derives a description of the distribution of attribute values in the private dataset. This information is saved in a dataset description file, to which we refer as data summary. Then DataSynthesizer is able to generate synthetic datasets of arbitrary size by sampling from the probabilistic model in the dataset description file.\n",
    "\n",
    "We'll create and inspect our synthetic datasets using three modules within it.\n",
    "\n",
    "> DataSynthesizer consists of three high-level modules:\n",
    ">\n",
    "> 1. **DataDescriber**: investigates the data types, correlations and distributions of the attributes in the private dataset, and produces a data summary.\n",
    "> 2. **DataGenerator**: samples from the summary computed by DataDescriber and outputs synthetic data\n",
    "> 3. **ModelInspector**: shows an intuitive description of the data summary that was computed by DataDescriber, allowing the data owner to evaluate the accuracy of the summarization process and adjust any parameters, if desired.\n",
    "\n",
    "If you want to browse the code for each of these modules, you can find the Python classes for in the `DataSynthetizer` directory (all code in here from the [original repo](https://github.com/DataResponsibly/DataSynthesizer)).\n"
   ]
  },
  {
   "cell_type": "markdown",
   "metadata": {},
   "source": [
    "### Random mode\n",
    "\n",
    "If we were just to generate A&E data for testing our software, we wouldn't care too much about the statistical patterns within the data. Just that it was roughly a similar size and that the datatypes and columns aligned.\n",
    "\n",
    "In this case, we can just generate the data at random using the `generate_dataset_in_random_mode` function within the `DataGenerator` class.\n",
    "\n",
    "#### Data Description: Random\n",
    "\n",
    "The first step is to create a description of the data, defining the datatypes and which are the categorical variables."
   ]
  },
  {
   "cell_type": "code",
   "execution_count": 7,
   "metadata": {},
   "outputs": [],
   "source": [
    "attribute_to_datatype = {\n",
    "    'Time in A&E (mins)': 'Integer',\n",
    "    'Treatment': 'String',\n",
    "    'Gender': 'String',\n",
    "    'Index of Multiple Deprivation Decile': 'Integer',\n",
    "    'Hospital ID': 'String',\n",
    "    'Arrival Date': 'String',\n",
    "    'Arrival hour range': 'String',  \n",
    "    'Age bracket': 'String'\n",
    "}\n",
    "\n",
    "attribute_is_categorical = {\n",
    "    'Hospital ID': True,\n",
    "    'Time in A&E (mins)': False,\n",
    "    'Treatment': True,\n",
    "    'Gender': True,\n",
    "    'Index of Multiple Deprivation Decile': False,\n",
    "    'Arrival Date': True,\n",
    "    'Arrival hour range': True,  \n",
    "    'Age bracket': True\n",
    "}"
   ]
  },
  {
   "cell_type": "code",
   "execution_count": 8,
   "metadata": {},
   "outputs": [],
   "source": [
    "import os\n",
    "import sys\n",
    "from pathlib import Path\n",
    "\n",
    "#this_filepath = Path(os.path.realpath(__file__))\n",
    "#project_root = str(this_filepath.parents[1])\n",
    "\n",
    "#data_dir = os.path.join(project_root, 'DataSynthesizer/')\n",
    "sys.path.insert(0, filepaths.data_synthesizer_dir)\n",
    "\n",
    "import DataDescriber, DataGenerator, ModelInspector\n"
   ]
  },
  {
   "cell_type": "code",
   "execution_count": 9,
   "metadata": {},
   "outputs": [],
   "source": [
    "describer = DataDescriber.DataDescriber()\n",
    "\n",
    "\n",
    "describer.describe_dataset_in_random_mode(\n",
    "    filepaths.hospital_ae_data_deidentify,\n",
    "    attribute_to_datatype=attribute_to_datatype,\n",
    "    attribute_to_is_categorical=attribute_is_categorical)\n",
    "\n",
    "describer.save_dataset_description_to_file(\n",
    "    filepaths.hospital_ae_description_random)"
   ]
  },
  {
   "cell_type": "markdown",
   "metadata": {},
   "source": [
    "#### Data Generation: Random\n",
    "\n",
    "Next, generate the random data. We'll just generate the same amount of rows as was in the original data but, importantly, we could generate much more or less if we wanted to."
   ]
  },
  {
   "cell_type": "code",
   "execution_count": 10,
   "metadata": {},
   "outputs": [],
   "source": [
    "num_rows = len(hospital_ae_df)\n",
    "generator = DataGenerator.DataGenerator()\n"
   ]
  },
  {
   "cell_type": "code",
   "execution_count": 11,
   "metadata": {},
   "outputs": [],
   "source": [
    "generator.generate_dataset_in_random_mode(\n",
    "    num_rows, filepaths.hospital_ae_description_random)\n",
    "generator.save_synthetic_data(filepaths.hospital_ae_data_synthetic_random)\n"
   ]
  },
  {
   "cell_type": "markdown",
   "metadata": {},
   "source": [
    "#### Attribute Comparison: Random\n",
    "\n",
    "We'll compare each attribute in the original data to the synthetic data by generating plots of histograms using the `ModelInspector` class.\n"
   ]
  },
  {
   "cell_type": "code",
   "execution_count": 12,
   "metadata": {},
   "outputs": [
    {
     "data": {
      "text/html": [
       "<div>\n",
       "<style scoped>\n",
       "    .dataframe tbody tr th:only-of-type {\n",
       "        vertical-align: middle;\n",
       "    }\n",
       "\n",
       "    .dataframe tbody tr th {\n",
       "        vertical-align: top;\n",
       "    }\n",
       "\n",
       "    .dataframe thead th {\n",
       "        text-align: right;\n",
       "    }\n",
       "</style>\n",
       "<table border=\"1\" class=\"dataframe\">\n",
       "  <thead>\n",
       "    <tr style=\"text-align: right;\">\n",
       "      <th></th>\n",
       "      <th>Time in A&amp;E (mins)</th>\n",
       "      <th>Treatment</th>\n",
       "      <th>Gender</th>\n",
       "      <th>Index of Multiple Deprivation Decile</th>\n",
       "      <th>Hospital ID</th>\n",
       "      <th>Arrival Date</th>\n",
       "      <th>Arrival hour range</th>\n",
       "      <th>Age bracket</th>\n",
       "    </tr>\n",
       "  </thead>\n",
       "  <tbody>\n",
       "    <tr>\n",
       "      <th>0</th>\n",
       "      <td>0</td>\n",
       "      <td>Nebuliser/spacer</td>\n",
       "      <td>Male</td>\n",
       "      <td>9</td>\n",
       "      <td>715637</td>\n",
       "      <td>2019-04-02</td>\n",
       "      <td>16-19</td>\n",
       "      <td>25-44</td>\n",
       "    </tr>\n",
       "    <tr>\n",
       "      <th>1</th>\n",
       "      <td>1</td>\n",
       "      <td>Removal foreign body</td>\n",
       "      <td>Male</td>\n",
       "      <td>28</td>\n",
       "      <td>296498</td>\n",
       "      <td>2019-04-05</td>\n",
       "      <td>00-03</td>\n",
       "      <td>0-17</td>\n",
       "    </tr>\n",
       "    <tr>\n",
       "      <th>2</th>\n",
       "      <td>2</td>\n",
       "      <td>Removal foreign body</td>\n",
       "      <td>Male</td>\n",
       "      <td>41</td>\n",
       "      <td>906621</td>\n",
       "      <td>2019-04-05</td>\n",
       "      <td>20-23</td>\n",
       "      <td>45-64</td>\n",
       "    </tr>\n",
       "    <tr>\n",
       "      <th>3</th>\n",
       "      <td>3</td>\n",
       "      <td>Urinary catheter/suprapubic</td>\n",
       "      <td>Female</td>\n",
       "      <td>86</td>\n",
       "      <td>296498</td>\n",
       "      <td>2019-04-07</td>\n",
       "      <td>20-23</td>\n",
       "      <td>25-44</td>\n",
       "    </tr>\n",
       "    <tr>\n",
       "      <th>4</th>\n",
       "      <td>4</td>\n",
       "      <td>Dental treatment</td>\n",
       "      <td>Male</td>\n",
       "      <td>3</td>\n",
       "      <td>818695</td>\n",
       "      <td>2019-04-02</td>\n",
       "      <td>16-19</td>\n",
       "      <td>25-44</td>\n",
       "    </tr>\n",
       "  </tbody>\n",
       "</table>\n",
       "</div>"
      ],
      "text/plain": [
       "   Time in A&E (mins)                    Treatment  Gender  \\\n",
       "0                   0             Nebuliser/spacer    Male   \n",
       "1                   1         Removal foreign body    Male   \n",
       "2                   2         Removal foreign body    Male   \n",
       "3                   3  Urinary catheter/suprapubic  Female   \n",
       "4                   4             Dental treatment    Male   \n",
       "\n",
       "   Index of Multiple Deprivation Decile  Hospital ID Arrival Date  \\\n",
       "0                                     9       715637   2019-04-02   \n",
       "1                                    28       296498   2019-04-05   \n",
       "2                                    41       906621   2019-04-05   \n",
       "3                                    86       296498   2019-04-07   \n",
       "4                                     3       818695   2019-04-02   \n",
       "\n",
       "  Arrival hour range Age bracket  \n",
       "0              16-19       25-44  \n",
       "1              00-03        0-17  \n",
       "2              20-23       45-64  \n",
       "3              20-23       25-44  \n",
       "4              16-19       25-44  "
      ]
     },
     "execution_count": 12,
     "metadata": {},
     "output_type": "execute_result"
    }
   ],
   "source": [
    "synthetic_df = generator.synthetic_dataset\n",
    "\n",
    "synthetic_df.head()"
   ]
  },
  {
   "cell_type": "code",
   "execution_count": 14,
   "metadata": {},
   "outputs": [],
   "source": [
    "# Read attribute description from the dataset description file.\n",
    "from lib.utils import read_json_file\n",
    "\n",
    "\n",
    "attribute_description = read_json_file(\n",
    "    filepaths.hospital_ae_description_random)['attribute_description']\n",
    "\n",
    "inspector = ModelInspector.ModelInspector(hospital_ae_data_deidentify, synthetic_df, attribute_description)\n",
    "\n",
    "for attribute in synthetic_df.columns:\n",
    "\n",
    "    try:\n",
    "        inspector.compare_histograms(attribute, \"plot/random_\"+str(str.split(attribute)[0]))\n",
    "    except:\n",
    "        print ('Issue with '+attribute)"
   ]
  },
  {
   "cell_type": "markdown",
   "metadata": {},
   "source": [
    "\n",
    "*Comparison of ages in original data (left) and random synthetic data (right)*\n",
    "![Random mode age bracket histograms](../tutorial/plot/random_Age.png)\n",
    "\n",
    "*Comparison of hospital attendance in original data (left) and random synthetic data (right)*\n",
    "![Random mode age bracket histograms](../tutorial/plot/random_Hospital.png)\n",
    "\n",
    "*Comparison of arrival date in original data (left) and random synthetic data (right)*\n",
    "![Random mode age bracket histograms](../tutorial/plot/random_Treatment.png)\n"
   ]
  },
  {
   "cell_type": "markdown",
   "metadata": {},
   "source": [
    "#### Compare pairwise mutual information: Random\n",
    "\n",
    "DataSynthesizer has a function to compare the _mutual information_ between each of the variables in the dataset and plot them. We'll avoid the mathematical definition of mutual information but [Scholarpedia notes](http://www.scholarpedia.org/article/Mutual_information) it:\n"
   ]
  },
  {
   "cell_type": "code",
   "execution_count": null,
   "metadata": {},
   "outputs": [],
   "source": [
    "inspector.mutual_information_heatmap('plot/mutual_information_heatmap_random')\n"
   ]
  },
  {
   "cell_type": "markdown",
   "metadata": {},
   "source": [
    "We can see the original, private data has a correlation between `Age bracket` and `Time in A&E (mins)`. Not surprisingly, this correlation is lost when we generate our random data.\n",
    "\n",
    "*Mutual Information Heatmap in original data (left) and random synthetic data (right)*\n",
    "![Random mode age mutual information](plot/mutual_information_heatmap_random.png)"
   ]
  },
  {
   "cell_type": "markdown",
   "metadata": {},
   "source": [
    "### Independent attribute mode\n",
    "\n",
    "What if we had the use case where we wanted to build models to analyse the medians of ages, or hospital usage in the synthetic data? In this case we'd use independent attribute mode.\n",
    "\n",
    "#### Data Description: Independent\n"
   ]
  },
  {
   "cell_type": "code",
   "execution_count": null,
   "metadata": {},
   "outputs": [],
   "source": [
    "describer.describe_dataset_in_independent_attribute_mode(\n",
    "    filepaths.hospital_ae_data_deidentify,\n",
    "    attribute_to_datatype=attribute_to_datatype,\n",
    "    attribute_to_is_categorical=attribute_is_categorical)\n",
    "describer.save_dataset_description_to_file(\n",
    "    filepaths.hospital_ae_description_independent)"
   ]
  },
  {
   "cell_type": "markdown",
   "metadata": {},
   "source": [
    "#### Data Generation: Independent\n",
    "\n",
    "Next generate the data which keep the distributions of each column but not the data correlations."
   ]
  },
  {
   "cell_type": "code",
   "execution_count": null,
   "metadata": {},
   "outputs": [],
   "source": [
    "generator = DataGenerator.DataGenerator()\n",
    "generator.generate_dataset_in_independent_mode(\n",
    "    num_rows, filepaths.hospital_ae_description_independent)\n",
    "generator.save_synthetic_data(\n",
    "    filepaths.hospital_ae_data_synthetic_independent)"
   ]
  },
  {
   "cell_type": "markdown",
   "metadata": {},
   "source": [
    "#### Attribute Comparison: Independent\n",
    "\n",
    "Comparing the attribute histograms we see the independent mode captures the distributions pretty accurately. You can see the synthetic data is _mostly_ similar but not exactly.\n"
   ]
  },
  {
   "cell_type": "code",
   "execution_count": null,
   "metadata": {},
   "outputs": [],
   "source": [
    "synthetic_df = generator.synthetic_dataset\n",
    "inspector = ModelInspector.ModelInspector(hospital_ae_data_deidentify, synthetic_df, attribute_description)\n",
    "\n",
    "for attribute in synthetic_df.columns:\n",
    "    inspector.compare_histograms(attribute, \"plot/independent_\"+str(str.split(attribute)[0]))\n"
   ]
  },
  {
   "cell_type": "markdown",
   "metadata": {},
   "source": [
    "\n",
    "*Comparison of ages in original data (left) and independent synthetic data (right)*\n",
    "![Random mode age bracket histograms](plot/independent_Age.png)\n",
    "\n",
    "*Comparison of hospital attendance in original data (left) and independent synthetic data (right)*\n",
    "![Random mode age bracket histograms](plot/independent_Hospital.png)\n",
    "\n",
    "*Comparison of arrival date in original data (left) and independent synthetic data (right)*\n",
    "![Random mode age bracket histograms](plot/independent_Arrival.png)\n",
    "\n"
   ]
  },
  {
   "cell_type": "markdown",
   "metadata": {},
   "source": [
    "#### Compare pairwise mutual information: Independent\n"
   ]
  },
  {
   "cell_type": "code",
   "execution_count": null,
   "metadata": {},
   "outputs": [],
   "source": [
    "inspector.mutual_information_heatmap('plot/independent_mutual_information')"
   ]
  },
  {
   "cell_type": "markdown",
   "metadata": {},
   "source": [
    "We can see the independent data also does not contain any of the attribute correlations from the original data.\n",
    "\n",
    "*Mutual Information Heatmap in original data (left) and independent synthetic data (right)*\n",
    "![Independent mode mutual information](plot/independent_mutual_information.png)"
   ]
  },
  {
   "cell_type": "markdown",
   "metadata": {},
   "source": [
    "### Correlated attribute mode - include correlations between columns in the data\n",
    "\n",
    "If we want to capture correlated variables, for instance if patient is related to waiting times, we'll need correlated data. To do this we use *correlated mode*.\n",
    "\n",
    "#### Data Description: Correlated\n",
    "\n",
    "There's a couple of parameters that are different here so we'll explain them.\n",
    "\n",
    "`epsilon` is a value for DataSynthesizer's differential privacy which says the amount of noise to add to the data - the higher the value, the more noise and therefore more privacy. We're not using differential privacy so we can set it to zero.\n",
    "\n",
    "`k` is the maximum number of parents in a Bayesian network, i.e., the maximum number of incoming edges. For simplicity's sake, we're going to set this to 1, saying that for a variable only one other variable can influence it.\n"
   ]
  },
  {
   "cell_type": "code",
   "execution_count": null,
   "metadata": {},
   "outputs": [],
   "source": [
    "describer.describe_dataset_in_correlated_attribute_mode(\n",
    "    dataset_file=filepaths.hospital_ae_data_deidentify,\n",
    "    epsilon=10,\n",
    "    k=2,\n",
    "    attribute_to_datatype=attribute_to_datatype,\n",
    "    attribute_to_is_categorical=attribute_is_categorical)\n",
    "\n",
    "describer.save_dataset_description_to_file(filepaths.hospital_ae_description_correlated)"
   ]
  },
  {
   "cell_type": "markdown",
   "metadata": {},
   "source": [
    "#### Data Generation: Correlated\n"
   ]
  },
  {
   "cell_type": "code",
   "execution_count": null,
   "metadata": {},
   "outputs": [],
   "source": [
    "generator.generate_dataset_in_correlated_attribute_mode(\n",
    "    num_rows, filepaths.hospital_ae_description_correlated)\n",
    "generator.save_synthetic_data(filepaths.hospital_ae_data_synthetic_correlated)\n"
   ]
  },
  {
   "cell_type": "code",
   "execution_count": null,
   "metadata": {},
   "outputs": [],
   "source": [
    "synthetic_df = generator.synthetic_dataset\n",
    "inspector = ModelInspector.ModelInspector(hospital_ae_data_deidentify, synthetic_df, attribute_description)\n",
    "\n",
    "for attribute in synthetic_df.columns:\n",
    "    inspector.compare_histograms(attribute, \"plot/correlated_\"+str(str.split(attribute)[0]))\n"
   ]
  },
  {
   "cell_type": "markdown",
   "metadata": {},
   "source": [
    "#### Attribute Comparison: Correlated\n",
    "\n",
    "We can see correlated mode keeps similar distributions also. It looks the exact same but if you look closely there are also small differences in the distributions.\n",
    "\n",
    "*Comparison of ages in original data (left) and correlated synthetic data (right)*\n",
    "![Random mode age bracket histograms](plot/correlated_Age.png)\n",
    "\n",
    "*Comparison of hospital attendance in original data (left) and independent synthetic data (right)*\n",
    "![Random mode age bracket histograms](plot/correlated_Hospital.png)\n",
    "\n",
    "*Comparison of arrival date in original data (left) and independent synthetic data (right)*\n",
    "![Random mode age bracket histograms](plot/correlated_Arrival.png)\n"
   ]
  },
  {
   "cell_type": "markdown",
   "metadata": {},
   "source": [
    "#### Compare pairwise mutual information: Correlated\n"
   ]
  },
  {
   "cell_type": "code",
   "execution_count": null,
   "metadata": {},
   "outputs": [],
   "source": [
    "inspector.mutual_information_heatmap('plot/correlated_mutual_information')"
   ]
  },
  {
   "cell_type": "markdown",
   "metadata": {},
   "source": [
    "*Mutual Information Heatmap in original data (left) and correlated synthetic data (right)*\n",
    "![Independent mode mutual information](plot/correlated_mutual_information.png)\n"
   ]
  },
  {
   "cell_type": "code",
   "execution_count": null,
   "metadata": {},
   "outputs": [],
   "source": [
    "synthetic_df"
   ]
  },
  {
   "cell_type": "code",
   "execution_count": null,
   "metadata": {},
   "outputs": [],
   "source": []
  }
 ],
 "metadata": {
  "kernelspec": {
   "display_name": "Python 3",
   "language": "python",
   "name": "python3"
  },
  "language_info": {
   "codemirror_mode": {
    "name": "ipython",
    "version": 3
   },
   "file_extension": ".py",
   "mimetype": "text/x-python",
   "name": "python",
   "nbconvert_exporter": "python",
   "pygments_lexer": "ipython3",
   "version": "3.6.8"
  }
 },
 "nbformat": 4,
 "nbformat_minor": 1
}
